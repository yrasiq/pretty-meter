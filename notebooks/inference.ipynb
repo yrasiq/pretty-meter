{
 "cells": [
  {
   "cell_type": "code",
   "execution_count": null,
   "metadata": {},
   "outputs": [],
   "source": [
    "import sys\n",
    "sys.path.append('../')\n",
    "import torch\n",
    "from PIL import Image\n",
    "from utils import test_transform"
   ]
  },
  {
   "cell_type": "code",
   "execution_count": null,
   "metadata": {},
   "outputs": [],
   "source": [
    "device = \"cpu\" # device = torch.device(\"cuda\" if torch.cuda.is_available() else \"cpu\")\n",
    "model = torch.load('../m-EfficientNetV2-S.pth').eval().to(device)"
   ]
  },
  {
   "cell_type": "code",
   "execution_count": null,
   "metadata": {},
   "outputs": [],
   "source": [
    "img = Image.open('../1.jpg').convert('RGB')\n",
    "input = test_transform(img).to(device)\n",
    "input = input.reshape([1] + list(input.shape))\n",
    "\n",
    "with torch.no_grad():\n",
    "    result = model(input)\n",
    "\n",
    "result = (result.flatten() * 10).round(decimals=1).clip(0, 10)\n",
    "result = round(float(result.item()), 1)\n",
    "print(result)\n",
    "img"
   ]
  }
 ],
 "metadata": {
  "kernelspec": {
   "display_name": "venv",
   "language": "python",
   "name": "python3"
  },
  "language_info": {
   "codemirror_mode": {
    "name": "ipython",
    "version": 3
   },
   "file_extension": ".py",
   "mimetype": "text/x-python",
   "name": "python",
   "nbconvert_exporter": "python",
   "pygments_lexer": "ipython3",
   "version": "3.10.6"
  },
  "orig_nbformat": 4,
  "vscode": {
   "interpreter": {
    "hash": "d7bff87335768a8a3f171a0acb185093992b90e41bc0919ed9a9790979c4b965"
   }
  }
 },
 "nbformat": 4,
 "nbformat_minor": 2
}
